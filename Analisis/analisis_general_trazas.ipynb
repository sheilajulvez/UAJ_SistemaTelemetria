{
 "cells": [
  {
   "cell_type": "markdown",
   "id": "c646a59d",
   "metadata": {},
   "source": [
    "# 🧠 Análisis Automatizado de Trazas de Juego\n",
    "Este notebook analiza archivos JSON con trazas de eventos generadas por Amon-RA. Simplemente coloca el archivo `.json` en el mismo directorio y modifica el nombre del archivo en la celda correspondiente."
   ]
  },
  {
   "cell_type": "code",
   "execution_count": 2,
   "id": "a83c1d96",
   "metadata": {},
   "outputs": [],
   "source": [
    "# Nombre del archivo JSON\n",
    "file_name = 'guardado.json'"
   ]
  },
  {
   "cell_type": "code",
   "execution_count": 3,
   "id": "71bbb0e4",
   "metadata": {},
   "outputs": [
    {
     "name": "stdout",
     "output_type": "stream",
     "text": [
      "hola\n",
      "hola\n",
      "hola\n"
     ]
    }
   ],
   "source": [
    "'''import pandas as pd\n",
    "import json\n",
    "\n",
    "# Cargar archivo JSON línea por línea\n",
    "def cargar_trazas(file_name):\n",
    "    with open(file_name, 'r', encoding='utf-8') as file:\n",
    "        lines = file.readlines()\n",
    "        return pd.DataFrame([json.loads(line) for line in lines])\n",
    "\n",
    "# Cargar DataFrame\n",
    "df = cargar_trazas(file_name)'''\n",
    "import pandas as pd\n",
    "import json\n",
    "import os\n",
    "\n",
    "# Cargar múltiples archivos JSONL de una carpeta\n",
    "def cargar_multiples_trazas(carpeta):\n",
    "    dataframes = []\n",
    "    \n",
    "    for archivo in os.listdir(carpeta):\n",
    "        print('hola')\n",
    "        if archivo.endswith('.json') or archivo.endswith('.jsonl'):\n",
    "            ruta = os.path.join(carpeta, archivo)\n",
    "            with open(ruta, 'r', encoding='utf-8') as file:\n",
    "                lineas = file.readlines()\n",
    "                datos = [json.loads(linea) for linea in lineas]\n",
    "                df = pd.DataFrame(datos)\n",
    "                df['archivo'] = archivo  # Añade columna para identificar la sesión\n",
    "                dataframes.append(df)\n",
    "\n",
    "    # Unir todos los DataFrames en uno solo\n",
    "    return pd.concat(dataframes, ignore_index=True)\n",
    "\n",
    "\n",
    "carpeta_trazas = 'trazas_json/' \n",
    "df = cargar_multiples_trazas(carpeta_trazas)\n",
    "\n"
   ]
  },
  {
   "cell_type": "markdown",
   "id": "e5245f1e",
   "metadata": {},
   "source": [
    "## 🔢 Conteo de eventos y métricas generales"
   ]
  },
  {
   "cell_type": "code",
   "execution_count": 5,
   "id": "4c969e1e",
   "metadata": {},
   "outputs": [
    {
     "data": {
      "text/plain": [
       "event_type\n",
       "Jump             1796\n",
       "LevelProgress     596\n",
       "Death             363\n",
       "FallPlatform       78\n",
       "Pause              13\n",
       "LevelEnd           10\n",
       "BlueSlime          10\n",
       "SessionStart        7\n",
       "SessionEnd          2\n",
       "Name: count, dtype: int64"
      ]
     },
     "execution_count": 5,
     "metadata": {},
     "output_type": "execute_result"
    }
   ],
   "source": [
    "# Conteo de eventos principales\n",
    "conteos = df['event_type'].value_counts()\n",
    "conteos"
   ]
  },
  {
   "cell_type": "markdown",
   "id": "dc73c88e",
   "metadata": {},
   "source": [
    "## 🦘 Análisis de Saltos"
   ]
  },
  {
   "cell_type": "code",
   "execution_count": 7,
   "id": "88603d9a",
   "metadata": {},
   "outputs": [
    {
     "name": "stdout",
     "output_type": "stream",
     "text": [
      "Número total de saltos: 1796\n",
      "Muchos saltos: jugador activo o nivel largo.\n"
     ]
    }
   ],
   "source": [
    "saltos = df[df['event_type'] == 'Jump']\n",
    "print(f\"Número total de saltos: {len(saltos)}\")\n",
    "if len(saltos) < 10:\n",
    "    print('Pocos saltos: puede indicar falta de interacciones.')\n",
    "elif len(saltos) > 200:\n",
    "    print('Muchos saltos: jugador activo o nivel largo.')\n",
    "else:\n",
    "    print('Cantidad moderada de saltos: ritmo de juego equilibrado.')"
   ]
  },
  {
   "cell_type": "markdown",
   "id": "3a4ad1af",
   "metadata": {},
   "source": [
    "## 💀 Análisis de Muertes"
   ]
  },
  {
   "cell_type": "code",
   "execution_count": 9,
   "id": "078d4c0b",
   "metadata": {},
   "outputs": [
    {
     "name": "stdout",
     "output_type": "stream",
     "text": [
      "Total de muertes: 363\n",
      "death_type\n",
      "spike apears death    222\n",
      "fall death            106\n",
      "spike death            35\n",
      "Name: count, dtype: int64\n",
      "Hay una causa de muerte predominante que conviene revisar.\n"
     ]
    }
   ],
   "source": [
    "muertes = df[df['event_type'] == 'Death']\n",
    "print(f\"Total de muertes: {len(muertes)}\")\n",
    "print(muertes['death_type'].value_counts())\n",
    "if len(muertes) == 0:\n",
    "    print('¡No hubo muertes! El nivel puede ser demasiado fácil.')\n",
    "elif muertes['death_type'].value_counts().max() > 10:\n",
    "    print('Hay una causa de muerte predominante que conviene revisar.')\n",
    "else:\n",
    "    print('Distribución equilibrada de causas de muerte.')"
   ]
  },
  {
   "cell_type": "markdown",
   "id": "a9572b52",
   "metadata": {},
   "source": [
    "## 🧟 Análisis de colisiones con BlueSlime"
   ]
  },
  {
   "cell_type": "code",
   "execution_count": 11,
   "id": "21017ed5",
   "metadata": {},
   "outputs": [
    {
     "name": "stdout",
     "output_type": "stream",
     "text": [
      "Colisiones con BlueSlime: 10\n",
      "El jugador ha interactuado repetidamente con enemigos. Posiblemente aprendiendo o probando.\n"
     ]
    }
   ],
   "source": [
    "slimes = df[df['event_type'] == 'BlueSlime']\n",
    "print(f\"Colisiones con BlueSlime: {len(slimes)}\")\n",
    "if len(slimes) > 5:\n",
    "    print('El jugador ha interactuado repetidamente con enemigos. Posiblemente aprendiendo o probando.')\n",
    "elif len(slimes) == 0:\n",
    "    print('No se ha topado con enemigos, o los ha evitado bien.')\n",
    "else:\n",
    "    print('Pocas colisiones: el jugador ha tenido cuidado o el diseño lo facilita.')"
   ]
  },
  {
   "cell_type": "markdown",
   "id": "fe979114",
   "metadata": {},
   "source": [
    "## 🕓 Análisis del tiempo por nivel"
   ]
  },
  {
   "cell_type": "code",
   "execution_count": 13,
   "id": "ada649cc",
   "metadata": {},
   "outputs": [
    {
     "data": {
      "text/html": [
       "<div>\n",
       "<style scoped>\n",
       "    .dataframe tbody tr th:only-of-type {\n",
       "        vertical-align: middle;\n",
       "    }\n",
       "\n",
       "    .dataframe tbody tr th {\n",
       "        vertical-align: top;\n",
       "    }\n",
       "\n",
       "    .dataframe thead th {\n",
       "        text-align: right;\n",
       "    }\n",
       "</style>\n",
       "<table border=\"1\" class=\"dataframe\">\n",
       "  <thead>\n",
       "    <tr style=\"text-align: right;\">\n",
       "      <th></th>\n",
       "      <th>level_id</th>\n",
       "      <th>tiempo_nivel_segundos</th>\n",
       "    </tr>\n",
       "  </thead>\n",
       "  <tbody>\n",
       "    <tr>\n",
       "      <th>0</th>\n",
       "      <td>b2561eb3-a0b5-410b-912c-a195b79f4c51</td>\n",
       "      <td>65.47766</td>\n",
       "    </tr>\n",
       "    <tr>\n",
       "      <th>1</th>\n",
       "      <td>b2561eb3-a0b5-410b-912c-a195b79f4c51</td>\n",
       "      <td>45.27765</td>\n",
       "    </tr>\n",
       "    <tr>\n",
       "      <th>2</th>\n",
       "      <td>3bffa190-b3cc-4b8b-9f88-f5cbddd74f0b</td>\n",
       "      <td>24.48071</td>\n",
       "    </tr>\n",
       "    <tr>\n",
       "      <th>3</th>\n",
       "      <td>3bffa190-b3cc-4b8b-9f88-f5cbddd74f0b</td>\n",
       "      <td>34.71979</td>\n",
       "    </tr>\n",
       "    <tr>\n",
       "      <th>4</th>\n",
       "      <td>b2561eb3-a0b5-410b-912c-a195b79f4c51</td>\n",
       "      <td>65.47766</td>\n",
       "    </tr>\n",
       "    <tr>\n",
       "      <th>5</th>\n",
       "      <td>b2561eb3-a0b5-410b-912c-a195b79f4c51</td>\n",
       "      <td>45.27765</td>\n",
       "    </tr>\n",
       "    <tr>\n",
       "      <th>6</th>\n",
       "      <td>b2561eb3-a0b5-410b-912c-a195b79f4c51</td>\n",
       "      <td>65.47766</td>\n",
       "    </tr>\n",
       "    <tr>\n",
       "      <th>7</th>\n",
       "      <td>b2561eb3-a0b5-410b-912c-a195b79f4c51</td>\n",
       "      <td>45.27765</td>\n",
       "    </tr>\n",
       "    <tr>\n",
       "      <th>8</th>\n",
       "      <td>3bffa190-b3cc-4b8b-9f88-f5cbddd74f0b</td>\n",
       "      <td>24.48071</td>\n",
       "    </tr>\n",
       "    <tr>\n",
       "      <th>9</th>\n",
       "      <td>3bffa190-b3cc-4b8b-9f88-f5cbddd74f0b</td>\n",
       "      <td>34.71979</td>\n",
       "    </tr>\n",
       "  </tbody>\n",
       "</table>\n",
       "</div>"
      ],
      "text/plain": [
       "                               level_id  tiempo_nivel_segundos\n",
       "0  b2561eb3-a0b5-410b-912c-a195b79f4c51               65.47766\n",
       "1  b2561eb3-a0b5-410b-912c-a195b79f4c51               45.27765\n",
       "2  3bffa190-b3cc-4b8b-9f88-f5cbddd74f0b               24.48071\n",
       "3  3bffa190-b3cc-4b8b-9f88-f5cbddd74f0b               34.71979\n",
       "4  b2561eb3-a0b5-410b-912c-a195b79f4c51               65.47766\n",
       "5  b2561eb3-a0b5-410b-912c-a195b79f4c51               45.27765\n",
       "6  b2561eb3-a0b5-410b-912c-a195b79f4c51               65.47766\n",
       "7  b2561eb3-a0b5-410b-912c-a195b79f4c51               45.27765\n",
       "8  3bffa190-b3cc-4b8b-9f88-f5cbddd74f0b               24.48071\n",
       "9  3bffa190-b3cc-4b8b-9f88-f5cbddd74f0b               34.71979"
      ]
     },
     "execution_count": 13,
     "metadata": {},
     "output_type": "execute_result"
    }
   ],
   "source": [
    "# Filtrar eventos LevelEnd\n",
    "level_end = df[df[\"event_type\"] == \"LevelEnd\"].copy()\n",
    "\n",
    "# Asegurar que la columna 'time' esté en formato correcto: cambiar ',' por '.'\n",
    "level_end[\"tiempo_nivel_segundos\"] = (\n",
    "    level_end[\"time\"]\n",
    "    .str.replace(\",\", \".\", regex=False)\n",
    "    .astype(float)\n",
    ")\n",
    "\n",
    "# Seleccionar y mostrar las columnas relevantes\n",
    "nivel_duracion = level_end[[\"level_id\", \"tiempo_nivel_segundos\"]].dropna().reset_index(drop=True)\n",
    "nivel_duracion\n"
   ]
  },
  {
   "cell_type": "code",
   "execution_count": 14,
   "id": "f8c19724",
   "metadata": {},
   "outputs": [
    {
     "name": "stdout",
     "output_type": "stream",
     "text": [
      "Duración media por nivel: 45.07 segundos\n",
      "🟡 Tiempo adecuado para mantener atención y reto.\n"
     ]
    }
   ],
   "source": [
    "if not nivel_duracion['tiempo_nivel_segundos'].dropna().empty:\n",
    "    promedio = nivel_duracion['tiempo_nivel_segundos'].mean()\n",
    "    print(f\"Duración media por nivel: {promedio:.2f} segundos\")\n",
    "    if promedio < 10:\n",
    "        print('🟢 Los niveles se están completando muy rápido.')\n",
    "    elif promedio > 60:\n",
    "        print('🔴 Los niveles tardan demasiado en completarse.')\n",
    "    else:\n",
    "        print('🟡 Tiempo adecuado para mantener atención y reto.')\n",
    "else:\n",
    "    print(\"No hay datos suficientes para calcular la duración promedio por nivel.\")\n"
   ]
  },
  {
   "cell_type": "markdown",
   "id": "f62efb1a",
   "metadata": {},
   "source": [
    "## ⏱️ Tiempo total de juego (desde primer evento hasta el último)"
   ]
  },
  {
   "cell_type": "code",
   "execution_count": 16,
   "id": "7a15da13",
   "metadata": {},
   "outputs": [
    {
     "name": "stdout",
     "output_type": "stream",
     "text": [
      "Tiempo total jugado: 2948.34 segundos\n",
      "Sesión larga: puede ser una prueba de nivel completa o de ambos niveles.\n"
     ]
    }
   ],
   "source": [
    "df['event_timestamp'] = pd.to_datetime(df['event_timestamp'], errors='coerce', utc=True)\n",
    "total_tiempo = (df['event_timestamp'].max() - df['event_timestamp'].min()).total_seconds()\n",
    "print(f\"Tiempo total jugado: {total_tiempo:.2f} segundos\")\n",
    "if total_tiempo < 30:\n",
    "    print('Duración muy corta. Puede que el jugador se haya salido pronto.')\n",
    "elif total_tiempo > 300:\n",
    "    print('Sesión larga: puede ser una prueba de nivel completa o de ambos niveles.')\n",
    "else:\n",
    "    print('Duración de sesión razonable.')"
   ]
  }
 ],
 "metadata": {
  "kernelspec": {
   "display_name": "Python 3 (ipykernel)",
   "language": "python",
   "name": "python3"
  },
  "language_info": {
   "codemirror_mode": {
    "name": "ipython",
    "version": 3
   },
   "file_extension": ".py",
   "mimetype": "text/x-python",
   "name": "python",
   "nbconvert_exporter": "python",
   "pygments_lexer": "ipython3",
   "version": "3.12.4"
  }
 },
 "nbformat": 4,
 "nbformat_minor": 5
}
